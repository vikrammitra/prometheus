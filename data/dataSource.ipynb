{
  "nbformat": 4,
  "nbformat_minor": 0,
  "metadata": {
    "colab": {
      "provenance": [],
      "mount_file_id": "19EvUaKb-jK5F8lLWZwtJDpTuNoIMboUp",
      "authorship_tag": "ABX9TyPRS85zsNmYmmeh12PUJFy4",
      "include_colab_link": true
    },
    "kernelspec": {
      "name": "python3",
      "display_name": "Python 3"
    },
    "language_info": {
      "name": "python"
    }
  },
  "cells": [
    {
      "cell_type": "markdown",
      "metadata": {
        "id": "view-in-github",
        "colab_type": "text"
      },
      "source": [
        "<a href=\"https://colab.research.google.com/github/vikrammitra/prometheus/blob/main/data/dataSource.ipynb\" target=\"_parent\"><img src=\"https://colab.research.google.com/assets/colab-badge.svg\" alt=\"Open In Colab\"/></a>"
      ]
    },
    {
      "cell_type": "markdown",
      "source": [
        "# Sourcing Alpaca Credentials"
      ],
      "metadata": {
        "id": "uQPRvBhfeJPB"
      }
    },
    {
      "cell_type": "code",
      "source": [
        "credentials = open(\"/content/drive/MyDrive/Colab Notebooks/alpaca.txt\",\"r\")\n",
        "lines = credentials.readlines()\n",
        "consumer_key = lines[0].rstrip().replace(\"alpaca_key=\",\"\")\n",
        "consumer_secret = lines[1].rstrip().replace(\"alpaca_secret=\",\"\")\n",
        "#print(consumer_secret)\n"
      ],
      "metadata": {
        "id": "PPsvD4XziISh"
      },
      "execution_count": 23,
      "outputs": []
    },
    {
      "cell_type": "code",
      "source": [
        "!pip install alpaca-trade-api"
      ],
      "metadata": {
        "id": "rhC4OYD2nPiN"
      },
      "execution_count": 23,
      "outputs": []
    }
  ]
}